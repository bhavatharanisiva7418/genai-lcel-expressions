{
 "cells": [
  {
   "cell_type": "code",
   "execution_count": 1,
   "id": "27f320aa",
   "metadata": {
    "height": 353
   },
   "outputs": [
    {
     "data": {
      "text/plain": [
       "'Dogs are domesticated mammals that have been bred by humans for thousands of years. They are known for their loyalty, intelligence, and companionship. There are hundreds of different breeds of dogs, ranging in size, shape, and temperament.\\n\\nDogs are social animals that thrive on human interaction and companionship. They are known for their ability to form strong bonds with their owners and are often referred to as \"man\\'s best friend.\" Dogs are also highly trainable and can be taught a variety of commands and tricks.\\n\\nIn addition to being great companions, dogs also serve a variety of purposes including as service animals, therapy animals, search and rescue dogs, and working dogs in fields such as law enforcement and agriculture.\\n\\nOverall, dogs are beloved pets for many people around the world and are considered to be a valuable part of our lives.'"
      ]
     },
     "execution_count": 1,
     "metadata": {},
     "output_type": "execute_result"
    }
   ],
   "source": [
    "import os\n",
    "import openai\n",
    "\n",
    "from dotenv import load_dotenv, find_dotenv\n",
    "_ = load_dotenv(find_dotenv()) # read local .env file\n",
    "openai.api_key = os.environ['OPENAI_API_KEY']\n",
    "\n",
    "from langchain.prompts import ChatPromptTemplate\n",
    "from langchain.chat_models import ChatOpenAI\n",
    "from langchain.schema.output_parser import StrOutputParser\n",
    "\n",
    "prompt = ChatPromptTemplate.from_template(\n",
    "    \"tell me about {topic}\"\n",
    ")\n",
    "model = ChatOpenAI()\n",
    "output_parser = StrOutputParser()\n",
    "\n",
    "chain = prompt | model | output_parser\n",
    "\n",
    "chain.invoke({\"topic\": \"dog\"})"
   ]
  },
  {
   "cell_type": "code",
   "execution_count": 5,
   "id": "d29cce55",
   "metadata": {
    "height": 215
   },
   "outputs": [
    {
     "data": {
      "text/plain": [
       "[Document(page_content='GGenerative AI is a type of artificial intelligence that creates new content, such as text, images, or code, based on learned patterns.'),\n",
       " Document(page_content='(LCEL)LangChain Expression Language (LCEL) is a declarative syntax for composing and chaining LangChain components efficiently.')]"
      ]
     },
     "execution_count": 5,
     "metadata": {},
     "output_type": "execute_result"
    }
   ],
   "source": [
    "from langchain.embeddings import OpenAIEmbeddings\n",
    "from langchain.vectorstores import DocArrayInMemorySearch   \n",
    "\n",
    "vectorstore = DocArrayInMemorySearch.from_texts(\n",
    "    [\"GGenerative AI is a type of artificial intelligence that creates new content, such as text, images, or code, based on learned patterns.\",\"(LCEL)LangChain Expression Language (LCEL) is a declarative syntax for composing and chaining LangChain components efficiently.\"],\n",
    "    embedding=OpenAIEmbeddings()\n",
    ")\n",
    "retriever = vectorstore.as_retriever()\n",
    "\n",
    "retriever.get_relevant_documents(\"what is generative ai?\")\n"
   ]
  },
  {
   "cell_type": "code",
   "execution_count": 6,
   "id": "0864c943",
   "metadata": {
    "height": 30
   },
   "outputs": [
    {
     "data": {
      "text/plain": [
       "[Document(page_content='(LCEL)LangChain Expression Language (LCEL) is a declarative syntax for composing and chaining LangChain components efficiently.'),\n",
       " Document(page_content='GGenerative AI is a type of artificial intelligence that creates new content, such as text, images, or code, based on learned patterns.')]"
      ]
     },
     "execution_count": 6,
     "metadata": {},
     "output_type": "execute_result"
    }
   ],
   "source": [
    "retriever.get_relevant_documents(\"what is the full form of LCEL\")"
   ]
  },
  {
   "cell_type": "code",
   "execution_count": 3,
   "id": "e9518dc6",
   "metadata": {
    "height": 268
   },
   "outputs": [
    {
     "data": {
      "text/plain": [
       "'LangChain Expression Language'"
      ]
     },
     "execution_count": 3,
     "metadata": {},
     "output_type": "execute_result"
    }
   ],
   "source": [
    "template = \"\"\"Answer the question based only on the following context:\n",
    "{context}\n",
    "\n",
    "Question: {question}\n",
    "\"\"\"\n",
    "prompt = ChatPromptTemplate.from_template(template)\n",
    "\n",
    "from langchain.schema.runnable import RunnableMap\n",
    "\n",
    "chain = RunnableMap({\n",
    "    \"context\": lambda x: retriever.get_relevant_documents(x[\"question\"]),\n",
    "    \"question\": lambda x: x[\"question\"]\n",
    "}) | prompt | model | output_parser\n",
    "\n",
    "chain.invoke({\"question\": \"what is the full form of LCEL?\"})"
   ]
  },
  {
   "cell_type": "code",
   "execution_count": 4,
   "id": "d9ef0223",
   "metadata": {
    "height": 115
   },
   "outputs": [
    {
     "data": {
      "text/plain": [
       "{'context': [Document(page_content='(LCEL)LangChain Expression Language (LCEL) is a declarative syntax for composing and chaining LangChain components efficiently.'),\n",
       "  Document(page_content='GGenerative AI is a type of artificial intelligence that creates new content, such as text, images, or code, based on learned patterns.')],\n",
       " 'question': 'what is the full form of LCEL?'}"
      ]
     },
     "execution_count": 4,
     "metadata": {},
     "output_type": "execute_result"
    }
   ],
   "source": [
    "inputs = RunnableMap({\n",
    "    \"context\": lambda x: retriever.get_relevant_documents(x[\"question\"]),\n",
    "    \"question\": lambda x: x[\"question\"]\n",
    "})\n",
    "\n",
    "inputs.invoke({\"question\": \"what is the full form of LCEL?\"})"
   ]
  },
  {
   "cell_type": "code",
   "execution_count": null,
   "id": "46180ccd",
   "metadata": {
    "height": 30
   },
   "outputs": [],
   "source": []
  }
 ],
 "metadata": {
  "kernelspec": {
   "display_name": "Python 3 (ipykernel)",
   "language": "python",
   "name": "python3"
  },
  "language_info": {
   "codemirror_mode": {
    "name": "ipython",
    "version": 3
   },
   "file_extension": ".py",
   "mimetype": "text/x-python",
   "name": "python",
   "nbconvert_exporter": "python",
   "pygments_lexer": "ipython3",
   "version": "3.9.19"
  }
 },
 "nbformat": 4,
 "nbformat_minor": 5
}
